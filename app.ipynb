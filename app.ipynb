{
 "cells": [
  {
   "cell_type": "code",
   "execution_count": 2,
   "metadata": {},
   "outputs": [
    {
     "ename": "IndentationError",
     "evalue": "unexpected indent (2722450451.py, line 39)",
     "output_type": "error",
     "traceback": [
      "\u001b[1;36m  Cell \u001b[1;32mIn[2], line 39\u001b[1;36m\u001b[0m\n\u001b[1;33m    import torch\u001b[0m\n\u001b[1;37m    ^\u001b[0m\n\u001b[1;31mIndentationError\u001b[0m\u001b[1;31m:\u001b[0m unexpected indent\n"
     ]
    }
   ],
   "source": [
    "import torch\n",
    "import torch.nn as nn\n",
    "from torchvision import models,transforms\n",
    "from PIL import Image\n",
    "import gradio as gr \n",
    "\n",
    "#load pretrained model & finetune it on the target dataset\n",
    "model=models.resnet18(pretrained=True)\n",
    "model.fc=nn.Linear(model.fc.in_features,15)\n",
    "\n",
    "t=transforms.Compose([transforms.ToTensor(),\n",
    "                      transforms.Normalize((0.5,0.5,0.5),(0.5,0.5,0.5)),\n",
    "                      transforms.RandomHorizontalFlip(0.5),\n",
    "                      transforms.RandomRotation(10)])\n",
    "class_names=['c1','c2','c3','c4','c5','c6','c7','c8','c9']\n",
    "model.load_state_dict(torch.load('best_model.pth'))\n",
    "print(model)\n",
    "def predict(image):\n",
    "    image=t(image).unsqueeze(0)\n",
    "    with torch.no_grad():\n",
    "        output=model(image)\n",
    "        _,predicted=torch.max(output,1)\n",
    "        predicted_class=predicted.item()\n",
    "        return predicted_class\n",
    "    \n",
    "#setup gradio interface\n",
    "interface=gr.Interface(\n",
    "    fn=predict,\n",
    "    inputs=gr.Image(type='pil'),\n",
    "    outputs='text',\n",
    "    title='cifar dataset prediction',\n",
    "    description='upload an image to get its class predicted')\n",
    "\n",
    "\n",
    "interface.launch(share=True)\n",
    "    \n",
    "\n",
    "\n",
    "  import torch\n",
    "import torch.nn as nn\n",
    "from torchvision import models,transforms\n",
    "from PIL import Image\n",
    "import gradio as gr \n",
    "\n",
    "#load pretrained model & finetune it on the target dataset\n",
    "model=models.resnet18(pretrained=True)\n",
    "model.fc=nn.Linear(model.fc.in_features,15)\n",
    "\n",
    "t=transforms.Compose([transforms.ToTensor(),\n",
    "                      transforms.Normalize((0.5,0.5,0.5),(0.5,0.5,0.5)),\n",
    "                      transforms.RandomHorizontalFlip(0.5),\n",
    "                      transforms.RandomRotation(10)])\n",
    "class_names=['c1','c2','c3','c4','c5','c6','c7','c8','c9']\n",
    "model.load_state_dict(torch.load('best_model.pth'))\n",
    "print(model)\n",
    "def predict(image):\n",
    "    image=t(image).unsqueeze(0)\n",
    "    with torch.no_grad():\n",
    "        output=model(image)\n",
    "        _,predicted=torch.max(output,1)\n",
    "        predicted_class=predicted.item()\n",
    "        return predicted_class\n",
    "    \n",
    "#setup gradio interface\n",
    "interface=gr.Interface(\n",
    "    fn=predict,\n",
    "    inputs=gr.Image(type='pil'),\n",
    "    outputs='text',\n",
    "    title='cifar dataset prediction',\n",
    "    description='upload an image to get its class predicted')\n",
    "\n",
    "\n",
    "interface.launch(share=True)\n",
    "    \n",
    "\n",
    "\n",
    "  "
   ]
  }
 ],
 "metadata": {
  "kernelspec": {
   "display_name": "base",
   "language": "python",
   "name": "python3"
  },
  "language_info": {
   "codemirror_mode": {
    "name": "ipython",
    "version": 3
   },
   "file_extension": ".py",
   "mimetype": "text/x-python",
   "name": "python",
   "nbconvert_exporter": "python",
   "pygments_lexer": "ipython3",
   "version": "3.10.13"
  }
 },
 "nbformat": 4,
 "nbformat_minor": 2
}
